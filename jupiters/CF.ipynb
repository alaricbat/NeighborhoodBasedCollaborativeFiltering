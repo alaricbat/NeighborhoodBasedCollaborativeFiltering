{
 "cells": [
  {
   "cell_type": "code",
   "execution_count": 3,
   "id": "a3ef6073",
   "metadata": {},
   "outputs": [],
   "source": [
    "import numpy as np\n",
    "import pandas as pd\n",
    "from CF import CF"
   ]
  },
  {
   "cell_type": "markdown",
   "id": "1eafbeba",
   "metadata": {},
   "source": [
    "Test with Ex.DAT"
   ]
  },
  {
   "cell_type": "code",
   "execution_count": 11,
   "id": "28a07394",
   "metadata": {},
   "outputs": [],
   "source": [
    "#data files\n",
    "r_cols = ['user_id', 'item_id', 'rating']\n",
    "ratings = pd.read_csv('../data/dat/ex.dat', sep=' ', names=r_cols, encoding='latin-1')\n",
    "Y_data = ratings.values\n",
    "\n",
    "rs = CF(Y_data, k=2, uuCF=1)"
   ]
  },
  {
   "cell_type": "code",
   "execution_count": 12,
   "id": "510872bf",
   "metadata": {},
   "outputs": [],
   "source": [
    "#fit data\n",
    "rs.fit()"
   ]
  },
  {
   "cell_type": "code",
   "execution_count": 13,
   "id": "ee8015d0",
   "metadata": {},
   "outputs": [
    {
     "name": "stdout",
     "output_type": "stream",
     "text": [
      "Recommend item(s):  [2] to user 0\n",
      "Recommend item(s):  [] to user 1\n",
      "Recommend item(s):  [] to user 2\n",
      "Recommend item(s):  [4] to user 3\n",
      "Recommend item(s):  [4] to user 4\n",
      "Recommend item(s):  [3, 4] to user 5\n",
      "Recommend item(s):  [] to user 6\n"
     ]
    }
   ],
   "source": [
    "#print recommendation()\n",
    "rs.print_recommendation()"
   ]
  },
  {
   "cell_type": "code",
   "execution_count": 14,
   "id": "adf83c2b",
   "metadata": {},
   "outputs": [
    {
     "name": "stdout",
     "output_type": "stream",
     "text": [
      "Recommend item 0 to user(s) :  []\n",
      "Recommend item 1 to user(s) :  []\n",
      "Recommend item 2 to user(s) :  []\n",
      "Recommend item 3 to user(s) :  []\n",
      "Recommend item 4 to user(s) :  [3]\n"
     ]
    }
   ],
   "source": [
    "#item-item collaborative\n",
    "rs = CF(Y_data, k=2, uuCF=0)\n",
    "rs.fit()\n",
    "rs.print_recommendation()"
   ]
  },
  {
   "cell_type": "markdown",
   "id": "3b1be1e9",
   "metadata": {},
   "source": [
    "Test with ML-100K"
   ]
  },
  {
   "cell_type": "code",
   "execution_count": null,
   "id": "e63f179f",
   "metadata": {},
   "outputs": [],
   "source": [
    "r_cols = ['user_id', 'movie_id', 'rating', 'unix_timestamp']"
   ]
  },
  {
   "cell_type": "code",
   "execution_count": 18,
   "id": "b874c7b0",
   "metadata": {},
   "outputs": [],
   "source": [
    "ratings_base = pd.read_csv('../data/ml-100k/ub.base', sep='\\t', names=r_cols, encoding='latin-1')\n",
    "ratings_test = pd.read_csv('../data/ml-100k/ub.test', sep='\\t', names=r_cols, encoding='latin-1')\n",
    "\n",
    "rate_train = ratings_base.values\n",
    "rate_test = ratings_test.values\n",
    "\n",
    "# indices start from 0\n",
    "rate_train[:, :2] -= 1\n",
    "rate_test[:, :2] -= 1"
   ]
  }
 ],
 "metadata": {
  "kernelspec": {
   "display_name": "Python 3",
   "language": "python",
   "name": "python3"
  },
  "language_info": {
   "codemirror_mode": {
    "name": "ipython",
    "version": 3
   },
   "file_extension": ".py",
   "mimetype": "text/x-python",
   "name": "python",
   "nbconvert_exporter": "python",
   "pygments_lexer": "ipython3",
   "version": "3.12.1"
  }
 },
 "nbformat": 4,
 "nbformat_minor": 5
}
