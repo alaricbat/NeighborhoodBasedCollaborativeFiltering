{
 "cells": [
  {
   "cell_type": "code",
   "execution_count": null,
   "id": "a3ef6073",
   "metadata": {},
   "outputs": [],
   "source": [
    "import numpy as np"
   ]
  }
 ],
 "metadata": {
  "kernelspec": {
   "display_name": "Python 3",
   "language": "python",
   "name": "python3"
  },
  "language_info": {
   "name": "python",
   "version": "3.12.1"
  }
 },
 "nbformat": 4,
 "nbformat_minor": 5
}
